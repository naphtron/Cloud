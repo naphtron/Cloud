{
  "nbformat": 4,
  "nbformat_minor": 0,
  "metadata": {
    "colab": {
      "provenance": [],
      "authorship_tag": "ABX9TyPuK8JiSo/NDwor4pNm75zI",
      "include_colab_link": true
    },
    "kernelspec": {
      "name": "python3",
      "display_name": "Python 3"
    },
    "language_info": {
      "name": "python"
    }
  },
  "cells": [
    {
      "cell_type": "markdown",
      "metadata": {
        "id": "view-in-github",
        "colab_type": "text"
      },
      "source": [
        "<a href=\"https://colab.research.google.com/github/naphtron/Cloud/blob/main/aws_practice.ipynb\" target=\"_parent\"><img src=\"https://colab.research.google.com/assets/colab-badge.svg\" alt=\"Open In Colab\"/></a>"
      ]
    },
    {
      "cell_type": "code",
      "execution_count": null,
      "metadata": {
        "id": "n-X9Cwbw5elx"
      },
      "outputs": [],
      "source": [
        "# !pip install boto3\n",
        "# !pip install s3fs"
      ]
    },
    {
      "cell_type": "code",
      "source": [
        "import os\n",
        "import pandas as pd\n",
        "\n",
        "credentials_path = 'accessKeys.csv'\n",
        "credentials = pd.read_csv(credentials_path, header=0)\n",
        "\n",
        "os.environ['AWS_ACCESS_KEY_ID'] = credentials.loc[0, 'Access key ID']\n",
        "os.environ['AWS_SECRET_ACCESS_KEY'] = credentials.loc[0, 'Secret access key']"
      ],
      "metadata": {
        "id": "xgBQm-WDAwwc"
      },
      "execution_count": null,
      "outputs": []
    },
    {
      "cell_type": "code",
      "source": [
        "import boto3\n",
        "s3 = boto3.resource(\n",
        "    's3',\n",
        "    aws_access_key_id=os.environ['AWS_ACCESS_KEY_ID'],\n",
        "    aws_secret_access_key=os.environ['AWS_SECRET_ACCESS_KEY'])"
      ],
      "metadata": {
        "id": "JbzoaNyp5nRo"
      },
      "execution_count": null,
      "outputs": []
    },
    {
      "cell_type": "code",
      "source": [
        "# dir(s3)"
      ],
      "metadata": {
        "id": "f42-suZ3Xuk4"
      },
      "execution_count": null,
      "outputs": []
    },
    {
      "cell_type": "code",
      "source": [
        "df_obj = s3.Object(\"tambua\", \"synthetic_facility_v3.csv\")\n",
        "df_obj"
      ],
      "metadata": {
        "colab": {
          "base_uri": "https://localhost:8080/"
        },
        "id": "3MRxld2y6BAo",
        "outputId": "941046b6-7683-4adc-b82d-51d67bb63562"
      },
      "execution_count": null,
      "outputs": [
        {
          "output_type": "execute_result",
          "data": {
            "text/plain": [
              "s3.Object(bucket_name='tambua', key='synthetic_facility_v3.csv')"
            ]
          },
          "metadata": {},
          "execution_count": 10
        }
      ]
    },
    {
      "cell_type": "code",
      "source": [
        "# df_resp = df_obj.get()\n",
        "# df_resp"
      ],
      "metadata": {
        "colab": {
          "base_uri": "https://localhost:8080/",
          "height": 159
        },
        "id": "8-ILPUBh6rfN",
        "outputId": "c0e654b3-8451-4b9c-e11f-6cff3df3811e"
      },
      "execution_count": null,
      "outputs": [
        {
          "output_type": "error",
          "ename": "NameError",
          "evalue": "name 'df_obj' is not defined",
          "traceback": [
            "\u001b[0;31m---------------------------------------------------------------------------\u001b[0m",
            "\u001b[0;31mNameError\u001b[0m                                 Traceback (most recent call last)",
            "\u001b[0;32m<ipython-input-5-1916a0c435cc>\u001b[0m in \u001b[0;36m<cell line: 1>\u001b[0;34m()\u001b[0m\n\u001b[0;32m----> 1\u001b[0;31m \u001b[0mdf_resp\u001b[0m \u001b[0;34m=\u001b[0m \u001b[0mdf_obj\u001b[0m\u001b[0;34m.\u001b[0m\u001b[0mget\u001b[0m\u001b[0;34m(\u001b[0m\u001b[0;34m)\u001b[0m\u001b[0;34m\u001b[0m\u001b[0;34m\u001b[0m\u001b[0m\n\u001b[0m\u001b[1;32m      2\u001b[0m \u001b[0mdf_resp\u001b[0m\u001b[0;34m\u001b[0m\u001b[0;34m\u001b[0m\u001b[0m\n",
            "\u001b[0;31mNameError\u001b[0m: name 'df_obj' is not defined"
          ]
        }
      ]
    },
    {
      "cell_type": "code",
      "source": [
        "facility = pd.read_csv(df_resp['Body'])\n",
        "facility.head()"
      ],
      "metadata": {
        "id": "42SEz5uX6WLa"
      },
      "execution_count": null,
      "outputs": []
    },
    {
      "cell_type": "markdown",
      "source": [
        "using s3fs"
      ],
      "metadata": {
        "id": "gqFlwj_AVO77"
      }
    },
    {
      "cell_type": "code",
      "source": [
        "df = pd.read_csv('s3://tambua/synthetic_facility_v3.csv')\n",
        "df"
      ],
      "metadata": {
        "colab": {
          "base_uri": "https://localhost:8080/",
          "height": 424
        },
        "id": "iW8uwy_7VRUj",
        "outputId": "392ed19b-4e81-4dbc-cb08-325d38f5eb6e"
      },
      "execution_count": null,
      "outputs": [
        {
          "output_type": "execute_result",
          "data": {
            "text/plain": [
              "      recnr  firstname   lastname    petname               dob  sex  \\\n",
              "0         2     Fatuma        NaN      Zaina  24-08-2017 00:00    2   \n",
              "1         3     Gloria    Rashida        NaN  11-07-1993 00:00    2   \n",
              "2         4        Ali     Hakram      Igomu  17-05-2014 00:00    1   \n",
              "3         5   Nakalema        NaN    Nkwanga  27-02-2026 00:00    2   \n",
              "4         6     Asuman      Sempa      Aguti  02-03-2002 00:00    1   \n",
              "...     ...        ...        ...        ...               ...  ...   \n",
              "2897   2899     Madina   Nakagolo      Nkima  28-07-1955 00:00    2   \n",
              "2898   2900  Namulondo  Namugabwe        NaN  14-09-1933 00:00    2   \n",
              "2899   2901     Ziriya      Kauma       Kato  11-11-1963 00:00    2   \n",
              "2900   2902      Faizo    Buyinza  Ssenyonjo  09-06-1956 00:00    1   \n",
              "2901   2903  Namusobya      Nambi        Gia  29-08-2010 00:00    2   \n",
              "\n",
              "      nationalid  patientid   visitdate  \n",
              "0      N_ID_5000       2069  10-09-2018  \n",
              "1     N_ID_11861       2079  14-12-2022  \n",
              "2     N_ID_11864       2080  09-06-2023  \n",
              "3     N_ID_11867       2081  07-02-2019  \n",
              "4     N_ID_11870       2082  18-08-2020  \n",
              "...          ...        ...         ...  \n",
              "2897  N_ID_13676       4961  17-08-2021  \n",
              "2898  N_ID_13679       4962  21-06-2019  \n",
              "2899  N_ID_13682       4963  27-12-2018  \n",
              "2900  N_ID_13685       4964  01-12-2019  \n",
              "2901  N_ID_13688       4965  10-06-2019  \n",
              "\n",
              "[2902 rows x 9 columns]"
            ],
            "text/html": [
              "\n",
              "  <div id=\"df-78df3a68-5b28-4ff1-9f7b-ea64b22aff46\" class=\"colab-df-container\">\n",
              "    <div>\n",
              "<style scoped>\n",
              "    .dataframe tbody tr th:only-of-type {\n",
              "        vertical-align: middle;\n",
              "    }\n",
              "\n",
              "    .dataframe tbody tr th {\n",
              "        vertical-align: top;\n",
              "    }\n",
              "\n",
              "    .dataframe thead th {\n",
              "        text-align: right;\n",
              "    }\n",
              "</style>\n",
              "<table border=\"1\" class=\"dataframe\">\n",
              "  <thead>\n",
              "    <tr style=\"text-align: right;\">\n",
              "      <th></th>\n",
              "      <th>recnr</th>\n",
              "      <th>firstname</th>\n",
              "      <th>lastname</th>\n",
              "      <th>petname</th>\n",
              "      <th>dob</th>\n",
              "      <th>sex</th>\n",
              "      <th>nationalid</th>\n",
              "      <th>patientid</th>\n",
              "      <th>visitdate</th>\n",
              "    </tr>\n",
              "  </thead>\n",
              "  <tbody>\n",
              "    <tr>\n",
              "      <th>0</th>\n",
              "      <td>2</td>\n",
              "      <td>Fatuma</td>\n",
              "      <td>NaN</td>\n",
              "      <td>Zaina</td>\n",
              "      <td>24-08-2017 00:00</td>\n",
              "      <td>2</td>\n",
              "      <td>N_ID_5000</td>\n",
              "      <td>2069</td>\n",
              "      <td>10-09-2018</td>\n",
              "    </tr>\n",
              "    <tr>\n",
              "      <th>1</th>\n",
              "      <td>3</td>\n",
              "      <td>Gloria</td>\n",
              "      <td>Rashida</td>\n",
              "      <td>NaN</td>\n",
              "      <td>11-07-1993 00:00</td>\n",
              "      <td>2</td>\n",
              "      <td>N_ID_11861</td>\n",
              "      <td>2079</td>\n",
              "      <td>14-12-2022</td>\n",
              "    </tr>\n",
              "    <tr>\n",
              "      <th>2</th>\n",
              "      <td>4</td>\n",
              "      <td>Ali</td>\n",
              "      <td>Hakram</td>\n",
              "      <td>Igomu</td>\n",
              "      <td>17-05-2014 00:00</td>\n",
              "      <td>1</td>\n",
              "      <td>N_ID_11864</td>\n",
              "      <td>2080</td>\n",
              "      <td>09-06-2023</td>\n",
              "    </tr>\n",
              "    <tr>\n",
              "      <th>3</th>\n",
              "      <td>5</td>\n",
              "      <td>Nakalema</td>\n",
              "      <td>NaN</td>\n",
              "      <td>Nkwanga</td>\n",
              "      <td>27-02-2026 00:00</td>\n",
              "      <td>2</td>\n",
              "      <td>N_ID_11867</td>\n",
              "      <td>2081</td>\n",
              "      <td>07-02-2019</td>\n",
              "    </tr>\n",
              "    <tr>\n",
              "      <th>4</th>\n",
              "      <td>6</td>\n",
              "      <td>Asuman</td>\n",
              "      <td>Sempa</td>\n",
              "      <td>Aguti</td>\n",
              "      <td>02-03-2002 00:00</td>\n",
              "      <td>1</td>\n",
              "      <td>N_ID_11870</td>\n",
              "      <td>2082</td>\n",
              "      <td>18-08-2020</td>\n",
              "    </tr>\n",
              "    <tr>\n",
              "      <th>...</th>\n",
              "      <td>...</td>\n",
              "      <td>...</td>\n",
              "      <td>...</td>\n",
              "      <td>...</td>\n",
              "      <td>...</td>\n",
              "      <td>...</td>\n",
              "      <td>...</td>\n",
              "      <td>...</td>\n",
              "      <td>...</td>\n",
              "    </tr>\n",
              "    <tr>\n",
              "      <th>2897</th>\n",
              "      <td>2899</td>\n",
              "      <td>Madina</td>\n",
              "      <td>Nakagolo</td>\n",
              "      <td>Nkima</td>\n",
              "      <td>28-07-1955 00:00</td>\n",
              "      <td>2</td>\n",
              "      <td>N_ID_13676</td>\n",
              "      <td>4961</td>\n",
              "      <td>17-08-2021</td>\n",
              "    </tr>\n",
              "    <tr>\n",
              "      <th>2898</th>\n",
              "      <td>2900</td>\n",
              "      <td>Namulondo</td>\n",
              "      <td>Namugabwe</td>\n",
              "      <td>NaN</td>\n",
              "      <td>14-09-1933 00:00</td>\n",
              "      <td>2</td>\n",
              "      <td>N_ID_13679</td>\n",
              "      <td>4962</td>\n",
              "      <td>21-06-2019</td>\n",
              "    </tr>\n",
              "    <tr>\n",
              "      <th>2899</th>\n",
              "      <td>2901</td>\n",
              "      <td>Ziriya</td>\n",
              "      <td>Kauma</td>\n",
              "      <td>Kato</td>\n",
              "      <td>11-11-1963 00:00</td>\n",
              "      <td>2</td>\n",
              "      <td>N_ID_13682</td>\n",
              "      <td>4963</td>\n",
              "      <td>27-12-2018</td>\n",
              "    </tr>\n",
              "    <tr>\n",
              "      <th>2900</th>\n",
              "      <td>2902</td>\n",
              "      <td>Faizo</td>\n",
              "      <td>Buyinza</td>\n",
              "      <td>Ssenyonjo</td>\n",
              "      <td>09-06-1956 00:00</td>\n",
              "      <td>1</td>\n",
              "      <td>N_ID_13685</td>\n",
              "      <td>4964</td>\n",
              "      <td>01-12-2019</td>\n",
              "    </tr>\n",
              "    <tr>\n",
              "      <th>2901</th>\n",
              "      <td>2903</td>\n",
              "      <td>Namusobya</td>\n",
              "      <td>Nambi</td>\n",
              "      <td>Gia</td>\n",
              "      <td>29-08-2010 00:00</td>\n",
              "      <td>2</td>\n",
              "      <td>N_ID_13688</td>\n",
              "      <td>4965</td>\n",
              "      <td>10-06-2019</td>\n",
              "    </tr>\n",
              "  </tbody>\n",
              "</table>\n",
              "<p>2902 rows × 9 columns</p>\n",
              "</div>\n",
              "    <div class=\"colab-df-buttons\">\n",
              "\n",
              "  <div class=\"colab-df-container\">\n",
              "    <button class=\"colab-df-convert\" onclick=\"convertToInteractive('df-78df3a68-5b28-4ff1-9f7b-ea64b22aff46')\"\n",
              "            title=\"Convert this dataframe to an interactive table.\"\n",
              "            style=\"display:none;\">\n",
              "\n",
              "  <svg xmlns=\"http://www.w3.org/2000/svg\" height=\"24px\" viewBox=\"0 -960 960 960\">\n",
              "    <path d=\"M120-120v-720h720v720H120Zm60-500h600v-160H180v160Zm220 220h160v-160H400v160Zm0 220h160v-160H400v160ZM180-400h160v-160H180v160Zm440 0h160v-160H620v160ZM180-180h160v-160H180v160Zm440 0h160v-160H620v160Z\"/>\n",
              "  </svg>\n",
              "    </button>\n",
              "\n",
              "  <style>\n",
              "    .colab-df-container {\n",
              "      display:flex;\n",
              "      gap: 12px;\n",
              "    }\n",
              "\n",
              "    .colab-df-convert {\n",
              "      background-color: #E8F0FE;\n",
              "      border: none;\n",
              "      border-radius: 50%;\n",
              "      cursor: pointer;\n",
              "      display: none;\n",
              "      fill: #1967D2;\n",
              "      height: 32px;\n",
              "      padding: 0 0 0 0;\n",
              "      width: 32px;\n",
              "    }\n",
              "\n",
              "    .colab-df-convert:hover {\n",
              "      background-color: #E2EBFA;\n",
              "      box-shadow: 0px 1px 2px rgba(60, 64, 67, 0.3), 0px 1px 3px 1px rgba(60, 64, 67, 0.15);\n",
              "      fill: #174EA6;\n",
              "    }\n",
              "\n",
              "    .colab-df-buttons div {\n",
              "      margin-bottom: 4px;\n",
              "    }\n",
              "\n",
              "    [theme=dark] .colab-df-convert {\n",
              "      background-color: #3B4455;\n",
              "      fill: #D2E3FC;\n",
              "    }\n",
              "\n",
              "    [theme=dark] .colab-df-convert:hover {\n",
              "      background-color: #434B5C;\n",
              "      box-shadow: 0px 1px 3px 1px rgba(0, 0, 0, 0.15);\n",
              "      filter: drop-shadow(0px 1px 2px rgba(0, 0, 0, 0.3));\n",
              "      fill: #FFFFFF;\n",
              "    }\n",
              "  </style>\n",
              "\n",
              "    <script>\n",
              "      const buttonEl =\n",
              "        document.querySelector('#df-78df3a68-5b28-4ff1-9f7b-ea64b22aff46 button.colab-df-convert');\n",
              "      buttonEl.style.display =\n",
              "        google.colab.kernel.accessAllowed ? 'block' : 'none';\n",
              "\n",
              "      async function convertToInteractive(key) {\n",
              "        const element = document.querySelector('#df-78df3a68-5b28-4ff1-9f7b-ea64b22aff46');\n",
              "        const dataTable =\n",
              "          await google.colab.kernel.invokeFunction('convertToInteractive',\n",
              "                                                    [key], {});\n",
              "        if (!dataTable) return;\n",
              "\n",
              "        const docLinkHtml = 'Like what you see? Visit the ' +\n",
              "          '<a target=\"_blank\" href=https://colab.research.google.com/notebooks/data_table.ipynb>data table notebook</a>'\n",
              "          + ' to learn more about interactive tables.';\n",
              "        element.innerHTML = '';\n",
              "        dataTable['output_type'] = 'display_data';\n",
              "        await google.colab.output.renderOutput(dataTable, element);\n",
              "        const docLink = document.createElement('div');\n",
              "        docLink.innerHTML = docLinkHtml;\n",
              "        element.appendChild(docLink);\n",
              "      }\n",
              "    </script>\n",
              "  </div>\n",
              "\n",
              "\n",
              "<div id=\"df-eb8169c5-46cf-4ae3-82d7-a3f35b805df2\">\n",
              "  <button class=\"colab-df-quickchart\" onclick=\"quickchart('df-eb8169c5-46cf-4ae3-82d7-a3f35b805df2')\"\n",
              "            title=\"Suggest charts\"\n",
              "            style=\"display:none;\">\n",
              "\n",
              "<svg xmlns=\"http://www.w3.org/2000/svg\" height=\"24px\"viewBox=\"0 0 24 24\"\n",
              "     width=\"24px\">\n",
              "    <g>\n",
              "        <path d=\"M19 3H5c-1.1 0-2 .9-2 2v14c0 1.1.9 2 2 2h14c1.1 0 2-.9 2-2V5c0-1.1-.9-2-2-2zM9 17H7v-7h2v7zm4 0h-2V7h2v10zm4 0h-2v-4h2v4z\"/>\n",
              "    </g>\n",
              "</svg>\n",
              "  </button>\n",
              "\n",
              "<style>\n",
              "  .colab-df-quickchart {\n",
              "      --bg-color: #E8F0FE;\n",
              "      --fill-color: #1967D2;\n",
              "      --hover-bg-color: #E2EBFA;\n",
              "      --hover-fill-color: #174EA6;\n",
              "      --disabled-fill-color: #AAA;\n",
              "      --disabled-bg-color: #DDD;\n",
              "  }\n",
              "\n",
              "  [theme=dark] .colab-df-quickchart {\n",
              "      --bg-color: #3B4455;\n",
              "      --fill-color: #D2E3FC;\n",
              "      --hover-bg-color: #434B5C;\n",
              "      --hover-fill-color: #FFFFFF;\n",
              "      --disabled-bg-color: #3B4455;\n",
              "      --disabled-fill-color: #666;\n",
              "  }\n",
              "\n",
              "  .colab-df-quickchart {\n",
              "    background-color: var(--bg-color);\n",
              "    border: none;\n",
              "    border-radius: 50%;\n",
              "    cursor: pointer;\n",
              "    display: none;\n",
              "    fill: var(--fill-color);\n",
              "    height: 32px;\n",
              "    padding: 0;\n",
              "    width: 32px;\n",
              "  }\n",
              "\n",
              "  .colab-df-quickchart:hover {\n",
              "    background-color: var(--hover-bg-color);\n",
              "    box-shadow: 0 1px 2px rgba(60, 64, 67, 0.3), 0 1px 3px 1px rgba(60, 64, 67, 0.15);\n",
              "    fill: var(--button-hover-fill-color);\n",
              "  }\n",
              "\n",
              "  .colab-df-quickchart-complete:disabled,\n",
              "  .colab-df-quickchart-complete:disabled:hover {\n",
              "    background-color: var(--disabled-bg-color);\n",
              "    fill: var(--disabled-fill-color);\n",
              "    box-shadow: none;\n",
              "  }\n",
              "\n",
              "  .colab-df-spinner {\n",
              "    border: 2px solid var(--fill-color);\n",
              "    border-color: transparent;\n",
              "    border-bottom-color: var(--fill-color);\n",
              "    animation:\n",
              "      spin 1s steps(1) infinite;\n",
              "  }\n",
              "\n",
              "  @keyframes spin {\n",
              "    0% {\n",
              "      border-color: transparent;\n",
              "      border-bottom-color: var(--fill-color);\n",
              "      border-left-color: var(--fill-color);\n",
              "    }\n",
              "    20% {\n",
              "      border-color: transparent;\n",
              "      border-left-color: var(--fill-color);\n",
              "      border-top-color: var(--fill-color);\n",
              "    }\n",
              "    30% {\n",
              "      border-color: transparent;\n",
              "      border-left-color: var(--fill-color);\n",
              "      border-top-color: var(--fill-color);\n",
              "      border-right-color: var(--fill-color);\n",
              "    }\n",
              "    40% {\n",
              "      border-color: transparent;\n",
              "      border-right-color: var(--fill-color);\n",
              "      border-top-color: var(--fill-color);\n",
              "    }\n",
              "    60% {\n",
              "      border-color: transparent;\n",
              "      border-right-color: var(--fill-color);\n",
              "    }\n",
              "    80% {\n",
              "      border-color: transparent;\n",
              "      border-right-color: var(--fill-color);\n",
              "      border-bottom-color: var(--fill-color);\n",
              "    }\n",
              "    90% {\n",
              "      border-color: transparent;\n",
              "      border-bottom-color: var(--fill-color);\n",
              "    }\n",
              "  }\n",
              "</style>\n",
              "\n",
              "  <script>\n",
              "    async function quickchart(key) {\n",
              "      const quickchartButtonEl =\n",
              "        document.querySelector('#' + key + ' button');\n",
              "      quickchartButtonEl.disabled = true;  // To prevent multiple clicks.\n",
              "      quickchartButtonEl.classList.add('colab-df-spinner');\n",
              "      try {\n",
              "        const charts = await google.colab.kernel.invokeFunction(\n",
              "            'suggestCharts', [key], {});\n",
              "      } catch (error) {\n",
              "        console.error('Error during call to suggestCharts:', error);\n",
              "      }\n",
              "      quickchartButtonEl.classList.remove('colab-df-spinner');\n",
              "      quickchartButtonEl.classList.add('colab-df-quickchart-complete');\n",
              "    }\n",
              "    (() => {\n",
              "      let quickchartButtonEl =\n",
              "        document.querySelector('#df-eb8169c5-46cf-4ae3-82d7-a3f35b805df2 button');\n",
              "      quickchartButtonEl.style.display =\n",
              "        google.colab.kernel.accessAllowed ? 'block' : 'none';\n",
              "    })();\n",
              "  </script>\n",
              "</div>\n",
              "\n",
              "  <div id=\"id_8cc0b9fb-2f6d-4532-bb35-52a0e847970e\">\n",
              "    <style>\n",
              "      .colab-df-generate {\n",
              "        background-color: #E8F0FE;\n",
              "        border: none;\n",
              "        border-radius: 50%;\n",
              "        cursor: pointer;\n",
              "        display: none;\n",
              "        fill: #1967D2;\n",
              "        height: 32px;\n",
              "        padding: 0 0 0 0;\n",
              "        width: 32px;\n",
              "      }\n",
              "\n",
              "      .colab-df-generate:hover {\n",
              "        background-color: #E2EBFA;\n",
              "        box-shadow: 0px 1px 2px rgba(60, 64, 67, 0.3), 0px 1px 3px 1px rgba(60, 64, 67, 0.15);\n",
              "        fill: #174EA6;\n",
              "      }\n",
              "\n",
              "      [theme=dark] .colab-df-generate {\n",
              "        background-color: #3B4455;\n",
              "        fill: #D2E3FC;\n",
              "      }\n",
              "\n",
              "      [theme=dark] .colab-df-generate:hover {\n",
              "        background-color: #434B5C;\n",
              "        box-shadow: 0px 1px 3px 1px rgba(0, 0, 0, 0.15);\n",
              "        filter: drop-shadow(0px 1px 2px rgba(0, 0, 0, 0.3));\n",
              "        fill: #FFFFFF;\n",
              "      }\n",
              "    </style>\n",
              "    <button class=\"colab-df-generate\" onclick=\"generateWithVariable('df')\"\n",
              "            title=\"Generate code using this dataframe.\"\n",
              "            style=\"display:none;\">\n",
              "\n",
              "  <svg xmlns=\"http://www.w3.org/2000/svg\" height=\"24px\"viewBox=\"0 0 24 24\"\n",
              "       width=\"24px\">\n",
              "    <path d=\"M7,19H8.4L18.45,9,17,7.55,7,17.6ZM5,21V16.75L18.45,3.32a2,2,0,0,1,2.83,0l1.4,1.43a1.91,1.91,0,0,1,.58,1.4,1.91,1.91,0,0,1-.58,1.4L9.25,21ZM18.45,9,17,7.55Zm-12,3A5.31,5.31,0,0,0,4.9,8.1,5.31,5.31,0,0,0,1,6.5,5.31,5.31,0,0,0,4.9,4.9,5.31,5.31,0,0,0,6.5,1,5.31,5.31,0,0,0,8.1,4.9,5.31,5.31,0,0,0,12,6.5,5.46,5.46,0,0,0,6.5,12Z\"/>\n",
              "  </svg>\n",
              "    </button>\n",
              "    <script>\n",
              "      (() => {\n",
              "      const buttonEl =\n",
              "        document.querySelector('#id_8cc0b9fb-2f6d-4532-bb35-52a0e847970e button.colab-df-generate');\n",
              "      buttonEl.style.display =\n",
              "        google.colab.kernel.accessAllowed ? 'block' : 'none';\n",
              "\n",
              "      buttonEl.onclick = () => {\n",
              "        google.colab.notebook.generateWithVariable('df');\n",
              "      }\n",
              "      })();\n",
              "    </script>\n",
              "  </div>\n",
              "\n",
              "    </div>\n",
              "  </div>\n"
            ],
            "application/vnd.google.colaboratory.intrinsic+json": {
              "type": "dataframe",
              "variable_name": "df",
              "summary": "{\n  \"name\": \"df\",\n  \"rows\": 2902,\n  \"fields\": [\n    {\n      \"column\": \"recnr\",\n      \"properties\": {\n        \"dtype\": \"number\",\n        \"std\": 837,\n        \"min\": 2,\n        \"max\": 2903,\n        \"num_unique_values\": 2902,\n        \"samples\": [\n          143,\n          821,\n          488\n        ],\n        \"semantic_type\": \"\",\n        \"description\": \"\"\n      }\n    },\n    {\n      \"column\": \"firstname\",\n      \"properties\": {\n        \"dtype\": \"category\",\n        \"num_unique_values\": 965,\n        \"samples\": [\n          \"Naibira\",\n          \"Laura\",\n          \"Retisha\"\n        ],\n        \"semantic_type\": \"\",\n        \"description\": \"\"\n      }\n    },\n    {\n      \"column\": \"lastname\",\n      \"properties\": {\n        \"dtype\": \"category\",\n        \"num_unique_values\": 979,\n        \"samples\": [\n          \"Kalungi\",\n          \"Shalifa\",\n          \"Catherine\"\n        ],\n        \"semantic_type\": \"\",\n        \"description\": \"\"\n      }\n    },\n    {\n      \"column\": \"petname\",\n      \"properties\": {\n        \"dtype\": \"category\",\n        \"num_unique_values\": 700,\n        \"samples\": [\n          \"Mambo\",\n          \"Mukwaya\",\n          \"Nalwanga\"\n        ],\n        \"semantic_type\": \"\",\n        \"description\": \"\"\n      }\n    },\n    {\n      \"column\": \"dob\",\n      \"properties\": {\n        \"dtype\": \"object\",\n        \"num_unique_values\": 2500,\n        \"samples\": [\n          \"30-12-1930 00:00\",\n          \"25-06-2005 00:00\",\n          \"14-01-1951 00:00\"\n        ],\n        \"semantic_type\": \"\",\n        \"description\": \"\"\n      }\n    },\n    {\n      \"column\": \"sex\",\n      \"properties\": {\n        \"dtype\": \"number\",\n        \"std\": 0,\n        \"min\": 1,\n        \"max\": 2,\n        \"num_unique_values\": 2,\n        \"samples\": [\n          1,\n          2\n        ],\n        \"semantic_type\": \"\",\n        \"description\": \"\"\n      }\n    },\n    {\n      \"column\": \"nationalid\",\n      \"properties\": {\n        \"dtype\": \"string\",\n        \"num_unique_values\": 2902,\n        \"samples\": [\n          \"N_ID_5384\",\n          \"N_ID_7433\"\n        ],\n        \"semantic_type\": \"\",\n        \"description\": \"\"\n      }\n    },\n    {\n      \"column\": \"patientid\",\n      \"properties\": {\n        \"dtype\": \"number\",\n        \"std\": 837,\n        \"min\": 2069,\n        \"max\": 4970,\n        \"num_unique_values\": 2902,\n        \"samples\": [\n          2213,\n          2891\n        ],\n        \"semantic_type\": \"\",\n        \"description\": \"\"\n      }\n    },\n    {\n      \"column\": \"visitdate\",\n      \"properties\": {\n        \"dtype\": \"object\",\n        \"num_unique_values\": 1498,\n        \"samples\": [\n          \"08-04-2022\",\n          \"24-10-2021\"\n        ],\n        \"semantic_type\": \"\",\n        \"description\": \"\"\n      }\n    }\n  ]\n}"
            }
          },
          "metadata": {},
          "execution_count": 6
        }
      ]
    },
    {
      "cell_type": "markdown",
      "source": [
        "### Uploading Data to Bucket"
      ],
      "metadata": {
        "id": "kh1ivJIbVoMg"
      }
    },
    {
      "cell_type": "code",
      "source": [
        "s3.Bucket('tambua').upload_file(Filename='sample_data/mnist_test.csv', Key='mnist.csv')"
      ],
      "metadata": {
        "id": "InmGaix2Vtgq"
      },
      "execution_count": null,
      "outputs": []
    },
    {
      "cell_type": "markdown",
      "source": [
        "### Delete Files in Bucket"
      ],
      "metadata": {
        "id": "M4c7B4KzaFTw"
      }
    },
    {
      "cell_type": "markdown",
      "source": [
        " #### Using boto.resource()"
      ],
      "metadata": {
        "id": "vBgN6d_aa0vu"
      }
    },
    {
      "cell_type": "code",
      "source": [
        "# Specify the bucket name\n",
        "bucket_name = 'your_bucket_name'\n",
        "\n",
        "# Access the bucket\n",
        "bucket = s3.Bucket(bucket_name)\n",
        "\n",
        "# Delete each object\n",
        "for obj in bucket.objects.all():\n",
        "    obj.delete()"
      ],
      "metadata": {
        "id": "6DrLsrNcaIor"
      },
      "execution_count": null,
      "outputs": []
    },
    {
      "cell_type": "markdown",
      "source": [
        "#### Using boto3.client()"
      ],
      "metadata": {
        "id": "p-Iq1ZBJbKoo"
      }
    },
    {
      "cell_type": "code",
      "source": [
        "import boto3\n",
        "\n",
        "# Create an S3 client\n",
        "s3 = boto3.client('s3')\n",
        "\n",
        "# Specify the bucket name\n",
        "bucket_name = 'your_bucket_name'\n",
        "\n",
        "# List all objects in the bucket\n",
        "objects = s3.list_objects_v2(Bucket=bucket_name)\n",
        "\n",
        "# Delete each object\n",
        "if 'Contents' in objects:\n",
        "    for obj in objects['Contents']:\n",
        "        s3.delete_object(Bucket=bucket_name, Key=obj['Key'])"
      ],
      "metadata": {
        "id": "3GTxXQG-bSzJ"
      },
      "execution_count": null,
      "outputs": []
    },
    {
      "cell_type": "markdown",
      "source": [
        "### Delete Bucket"
      ],
      "metadata": {
        "id": "0_tN2uDFaXu3"
      }
    },
    {
      "cell_type": "markdown",
      "source": [
        "#### Using boto3.resource()"
      ],
      "metadata": {
        "id": "yt1mNTeLbmjw"
      }
    },
    {
      "cell_type": "code",
      "source": [
        "# Access the bucket\n",
        "bucket = s3.Bucket(bucket_name)\n",
        "# Delete the bucket\n",
        "bucket.delete()"
      ],
      "metadata": {
        "id": "4KsBdNeJae1T"
      },
      "execution_count": null,
      "outputs": []
    },
    {
      "cell_type": "markdown",
      "source": [
        "#### Using boto3.client()"
      ],
      "metadata": {
        "id": "zfw-lrhSbrga"
      }
    },
    {
      "cell_type": "code",
      "source": [
        "s3.delete_bucket(Bucket=bucket_name)"
      ],
      "metadata": {
        "id": "GRkRRnd0bq9u"
      },
      "execution_count": null,
      "outputs": []
    }
  ]
}